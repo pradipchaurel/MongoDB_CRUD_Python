{
 "cells": [
  {
   "cell_type": "code",
   "execution_count": 3,
   "id": "6666d8e5",
   "metadata": {},
   "outputs": [
    {
     "data": {
      "text/plain": [
       "MongoClient(host=['localhost:27017'], document_class=dict, tz_aware=False, connect=True)"
      ]
     },
     "execution_count": 3,
     "metadata": {},
     "output_type": "execute_result"
    }
   ],
   "source": [
    "#crud operation in mongodb using python\n",
    "\n",
    "import pymongo\n",
    "\n",
    "\n",
    "\n",
    "#connect to mongodb\n",
    "\n",
    "connection_url = 'mongodb://localhost:27017'\n",
    "client = pymongo.MongoClient(connection_url)\n",
    "\n",
    "client"
   ]
  },
  {
   "cell_type": "code",
   "execution_count": 6,
   "id": "a022893d",
   "metadata": {},
   "outputs": [
    {
     "data": {
      "text/plain": [
       "Collection(Database(MongoClient(host=['localhost:27017'], document_class=dict, tz_aware=False, connect=True), 'MongoDB_CRUD'), 'students')"
      ]
     },
     "execution_count": 6,
     "metadata": {},
     "output_type": "execute_result"
    }
   ],
   "source": [
    "#creating a database\n",
    "\n",
    "db = client.MongoDB_CRUD\n",
    "db\n",
    "\n",
    "#creating a collection\n",
    "\n",
    "students = db.students\n",
    "students"
   ]
  },
  {
   "cell_type": "code",
   "execution_count": 7,
   "id": "108b33f7",
   "metadata": {},
   "outputs": [
    {
     "data": {
      "text/plain": [
       "<pymongo.results.InsertOneResult at 0x2520e19a680>"
      ]
     },
     "execution_count": 7,
     "metadata": {},
     "output_type": "execute_result"
    }
   ],
   "source": [
    "#adding single document in students collection\n",
    "\n",
    "document ={\n",
    "    \"Name\":\"Pradip Chaurel\",\n",
    "    \"Country\":\"Nepal\",\n",
    "    \"Course\":\"B.Tech\",\n",
    "    \"Age\":22\n",
    "}\n",
    "\n",
    "students.insert_one(document)"
   ]
  },
  {
   "cell_type": "code",
   "execution_count": 13,
   "id": "f82622b9",
   "metadata": {},
   "outputs": [
    {
     "name": "stdout",
     "output_type": "stream",
     "text": [
      "{'_id': ObjectId('64609a6d727c295363d253bd'), 'Name': 'Pradip Chaurel', 'Country': 'Nepal', 'Course': 'B.Tech', 'Age': 22}\n"
     ]
    }
   ],
   "source": [
    "print(students.find_one())"
   ]
  },
  {
   "cell_type": "code",
   "execution_count": 14,
   "id": "00d49724",
   "metadata": {},
   "outputs": [
    {
     "data": {
      "text/plain": [
       "<pymongo.results.InsertManyResult at 0x2520dc5dde0>"
      ]
     },
     "execution_count": 14,
     "metadata": {},
     "output_type": "execute_result"
    }
   ],
   "source": [
    "#insert multiple documents\n",
    "\n",
    "documents = [\n",
    "    {\"Name\":\"Pradip Chaurel\",\"Country\":\"Nepal\",\"Course\":\"B.Tech\", \"Age\":22},\n",
    "    {\"Name\":\"A\",\"Country\":\"Nepal\",\"Course\":\"B.Tech\", \"Age\":21},\n",
    "    {\"Name\":\"B\",\"Country\":\"Nepal\",\"Course\":\"B.Tech\", \"Age\":20},\n",
    "    {\"Name\":\"C\",\"Country\":\"Nepal\",\"Course\":\"B.Tech\", \"Age\":23},\n",
    "]\n",
    "\n",
    "students.insert_many(documents)"
   ]
  },
  {
   "cell_type": "code",
   "execution_count": 16,
   "id": "aaa5dd09",
   "metadata": {},
   "outputs": [
    {
     "name": "stdout",
     "output_type": "stream",
     "text": [
      "<pymongo.cursor.Cursor object at 0x000002520E318D60>\n"
     ]
    }
   ],
   "source": [
    "# to show the list of the items\n",
    "#print(list(students.find()))"
   ]
  },
  {
   "cell_type": "code",
   "execution_count": 19,
   "id": "07037877",
   "metadata": {},
   "outputs": [
    {
     "name": "stdout",
     "output_type": "stream",
     "text": [
      "{'_id': ObjectId('64609a6d727c295363d253bd'), 'Name': 'Jack ma', 'Country': 'Nepal', 'Course': 'B.Tech', 'Age': 22}\n"
     ]
    }
   ],
   "source": [
    "# to update documents\n",
    "\n",
    "students.update_one({\"Name\":\"Pradip Chaurel\"},{\"$set\":{\"Name\":\"Jack ma\"}})\n",
    "print(students.find_one())\n",
    "\n",
    "# we can use update_many() to update multiple items"
   ]
  },
  {
   "cell_type": "code",
   "execution_count": 21,
   "id": "1b75e85d",
   "metadata": {},
   "outputs": [
    {
     "data": {
      "text/plain": [
       "<pymongo.results.DeleteResult at 0x2520dc5ea40>"
      ]
     },
     "execution_count": 21,
     "metadata": {},
     "output_type": "execute_result"
    }
   ],
   "source": [
    "#deleting documents\n",
    "\n",
    "students.delete_one({\"Name\":\"Jack ma\"})"
   ]
  },
  {
   "cell_type": "code",
   "execution_count": 22,
   "id": "47d82702",
   "metadata": {},
   "outputs": [
    {
     "data": {
      "text/plain": [
       "<pymongo.results.UpdateResult at 0x2520dc8ebc0>"
      ]
     },
     "execution_count": 22,
     "metadata": {},
     "output_type": "execute_result"
    }
   ],
   "source": [
    "students.update_one({\"Name\":\"Jack ma\"},{\"$set\":{\"Country\":\"China\"}})"
   ]
  }
 ],
 "metadata": {
  "kernelspec": {
   "display_name": "Python 3 (ipykernel)",
   "language": "python",
   "name": "python3"
  },
  "language_info": {
   "codemirror_mode": {
    "name": "ipython",
    "version": 3
   },
   "file_extension": ".py",
   "mimetype": "text/x-python",
   "name": "python",
   "nbconvert_exporter": "python",
   "pygments_lexer": "ipython3",
   "version": "3.10.0"
  }
 },
 "nbformat": 4,
 "nbformat_minor": 5
}
